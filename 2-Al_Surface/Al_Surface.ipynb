{
 "cells": [
  {
   "cell_type": "markdown",
   "id": "1e0132f1",
   "metadata": {},
   "source": [
    "# Load Bridges2 Modules and Set Environment Variables"
   ]
  },
  {
   "cell_type": "code",
   "execution_count": null,
   "id": "4f0672ac",
   "metadata": {},
   "outputs": [],
   "source": [
    "%set_env SHELL=/bin/bash"
   ]
  },
  {
   "cell_type": "code",
   "execution_count": null,
   "id": "1a290c4e",
   "metadata": {},
   "outputs": [],
   "source": [
    "import sys\n",
    "sys.path.append(\"/usr/share/lmod/lmod/init\")\n",
    "sys.path.append(\"/jet/home/wnw36/.conda/envs/icomse-dft/lib/python3.1/site-packages/\")\n",
    "from env_modules_python import module\n",
    "module('load', 'intelmpi')\n",
    "module('load', 'QuantumEspresso')"
   ]
  },
  {
   "cell_type": "code",
   "execution_count": null,
   "id": "e48c008c",
   "metadata": {},
   "outputs": [],
   "source": [
    "import os\n",
    "os.environ['ASE_ESPRESSO_COMMAND'] = \"mpirun -np 4 pw.x -in PREFIX.pwi > PREFIX.pwo\"\n",
    "os.environ['OMP_NUM_THREADS'] = \"2\""
   ]
  },
  {
   "cell_type": "markdown",
   "id": "6d84877a-7a04-4ce5-b192-3a49fbaad1e7",
   "metadata": {},
   "source": [
    "# SCF Calculation for Metallic Surfaces"
   ]
  },
  {
   "cell_type": "code",
   "execution_count": null,
   "id": "cdb70e4d-b2f3-4d6e-bf27-f146835e5bb6",
   "metadata": {},
   "outputs": [],
   "source": [
    "from ase.visualize import view\n",
    "from ase.build import fcc111\n",
    "\n",
    "atoms = fcc111('Al', size=(2,2,4), vacuum=7.5) # Vacuum added on both sides! 15 Ang. Vacuum total\n",
    "view(atoms, viewer=\"x3d\")"
   ]
  },
  {
   "cell_type": "code",
   "execution_count": null,
   "id": "60c2c054-632c-48bb-99f7-843082f0293a",
   "metadata": {},
   "outputs": [],
   "source": [
    "from ase.calculators.espresso import Espresso\n",
    "\n",
    "pseudopotentials = {\n",
    "    \"Al\":\"Al.pbe-n-kjpaw_psl.1.0.0.UPF\"\n",
    "}\n",
    "\n",
    "input_data = {\n",
    "    'system': {\n",
    "        'ecutwfc': 20,\n",
    "        'ecutrho': 160,\n",
    "        'occupations': 'smearing',\n",
    "        'smearing':'mp',\n",
    "        'degauss':0.02\n",
    "    },\n",
    "    'control': {\n",
    "        'restart_mode': 'from_scratch',\n",
    "        'pseudo_dir': '../pseudos'\n",
    "    },\n",
    "    'electrons': {\n",
    "        'diagonalization':'david',\n",
    "        'conv_thr': 1.0e-8, \n",
    "        'mixing_beta':0.2,\n",
    "        'mixing_mode': 'local-TF'\n",
    "    }\n",
    "} \n",
    "\n",
    "\n",
    "calc = Espresso(\n",
    "    pseudopotentials=pseudopotentials,\n",
    "    tstress=True, tprnfor=True, \n",
    "    input_data = input_data,\n",
    "    kpts=(4,4,1),\n",
    "    koffset=(1, 1, 0))\n",
    "\n",
    "atoms.calc = calc\n"
   ]
  },
  {
   "cell_type": "code",
   "execution_count": null,
   "id": "52302782-fb17-49d4-9263-9f15aed317fb",
   "metadata": {},
   "outputs": [],
   "source": [
    "energy = atoms.get_potential_energy()\n",
    "print(f\"E = {energy:.3f}\")"
   ]
  },
  {
   "cell_type": "markdown",
   "id": "09c2121f",
   "metadata": {},
   "source": [
    "# Geometry Optimization"
   ]
  },
  {
   "cell_type": "code",
   "execution_count": null,
   "id": "278439d2",
   "metadata": {},
   "outputs": [],
   "source": [
    "input_data['control'].update({'restart_mode':'restart'})\n",
    "calc.set(input_data = input_data)"
   ]
  },
  {
   "cell_type": "code",
   "execution_count": null,
   "id": "906c68c2",
   "metadata": {},
   "outputs": [],
   "source": [
    "from ase.optimize import BFGS\n",
    "from ase.constraints import FixAtoms\n",
    "\n",
    "c = FixAtoms(indices=[atom.index for atom in atoms if atom.position[2] <= 0.5*atoms.get_cell()[2][2]])\n",
    "atoms.set_constraint(c)\n",
    "\n",
    "opt = BFGS(atoms, trajectory=\"bfgs.traj\")\n",
    "opt.run(fmax=0.05)"
   ]
  },
  {
   "cell_type": "code",
   "execution_count": null,
   "id": "ebacd10f",
   "metadata": {},
   "outputs": [],
   "source": []
  }
 ],
 "metadata": {
  "kernelspec": {
   "display_name": "Python 3 (ipykernel)",
   "language": "python",
   "name": "python3"
  },
  "language_info": {
   "codemirror_mode": {
    "name": "ipython",
    "version": 3
   },
   "file_extension": ".py",
   "mimetype": "text/x-python",
   "name": "python",
   "nbconvert_exporter": "python",
   "pygments_lexer": "ipython3",
   "version": "3.10.11"
  }
 },
 "nbformat": 4,
 "nbformat_minor": 5
}
