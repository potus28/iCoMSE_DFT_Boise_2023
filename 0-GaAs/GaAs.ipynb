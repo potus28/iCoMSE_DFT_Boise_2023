{
 "cells": [
  {
   "cell_type": "markdown",
   "id": "43d50dd5",
   "metadata": {},
   "source": [
    "# Load Bridges2 Modules and Set Environment Variables"
   ]
  },
  {
   "cell_type": "code",
   "execution_count": null,
   "id": "e30a4f3b",
   "metadata": {},
   "outputs": [],
   "source": [
    "%set_env SHELL=/bin/bash"
   ]
  },
  {
   "cell_type": "code",
   "execution_count": null,
   "id": "ecd23024",
   "metadata": {},
   "outputs": [],
   "source": [
    "import sys\n",
    "sys.path.append(\"/usr/share/lmod/lmod/init\")\n",
    "sys.path.append(\"/jet/home/wnw36/.conda/envs/icomse-dft/lib/python3.1/site-packages/\")\n",
    "from env_modules_python import module\n",
    "module('load', 'intelmpi')\n",
    "module('load', 'QuantumEspresso')"
   ]
  },
  {
   "cell_type": "code",
   "execution_count": null,
   "id": "6bcd01d0",
   "metadata": {},
   "outputs": [],
   "source": [
    "import os\n",
    "os.environ['ASE_ESPRESSO_COMMAND'] = \"mpirun -np 6 pw.x -in PREFIX.pwi > PREFIX.pwo\"\n",
    "os.environ['OMP_NUM_THREADS'] = \"2\""
   ]
  },
  {
   "cell_type": "markdown",
   "id": "6d84877a-7a04-4ce5-b192-3a49fbaad1e7",
   "metadata": {},
   "source": [
    "# My First SCF Calculation"
   ]
  },
  {
   "cell_type": "code",
   "execution_count": null,
   "id": "cdb70e4d-b2f3-4d6e-bf27-f146835e5bb6",
   "metadata": {},
   "outputs": [],
   "source": [
    "from ase.io import read, write\n",
    "from ase.visualize import view\n",
    "atoms = read(\"GaAs.cif\")\n",
    "view(atoms, viewer=\"x3d\")"
   ]
  },
  {
   "cell_type": "code",
   "execution_count": null,
   "id": "60c2c054-632c-48bb-99f7-843082f0293a",
   "metadata": {},
   "outputs": [],
   "source": [
    "from ase.calculators.espresso import Espresso\n",
    "\n",
    "pseudopotentials = {\n",
    "    \"Ga\":\"Ga.pbe-dn-kjpaw_psl.1.0.0.UPF\",\n",
    "    \"As\": \"As.nc.z_15.oncvpsp3.dojo.v4-std.upf\"}\n",
    "\n",
    "input_data = {\n",
    "    'system': {\n",
    "        'ecutwfc': 43,\n",
    "        'ecutrho': 300\n",
    "    },\n",
    "    'control': {\n",
    "        'restart_mode': 'from_scratch',\n",
    "        'pseudo_dir': '../pseudos'\n",
    "    },\n",
    "    'electrons': {\n",
    "        'diagonalization':'david',\n",
    "        'conv_thr': 1.0e-8, \n",
    "        'mixing_beta':0.4\n",
    "    }\n",
    "} \n",
    "\n",
    "\n",
    "calc = Espresso(\n",
    "    pseudopotentials=pseudopotentials,\n",
    "    tstress=True, tprnfor=True, \n",
    "    input_data = input_data,\n",
    "    kpts=(2, 2, 2),\n",
    "    koffset=(1, 1, 1))\n",
    "\n",
    "atoms.calc = calc\n"
   ]
  },
  {
   "cell_type": "code",
   "execution_count": null,
   "id": "52302782-fb17-49d4-9263-9f15aed317fb",
   "metadata": {},
   "outputs": [],
   "source": [
    "energy = atoms.get_potential_energy()\n",
    "print(f\"E = {energy:.3f}\")"
   ]
  },
  {
   "cell_type": "markdown",
   "id": "e77072fb-5f81-4076-9ee7-e33c0080288d",
   "metadata": {},
   "source": [
    "# K-Point Covnergence"
   ]
  },
  {
   "cell_type": "code",
   "execution_count": null,
   "id": "ff230ae6-6c35-4b43-8e2b-690ba00d0541",
   "metadata": {},
   "outputs": [],
   "source": [
    "kpoints = range(1,9) \n",
    "energies = []\n",
    "for k in kpoints:\n",
    "    calc.set(kpts=(k, k, k))\n",
    "    energies.append(atoms.get_potential_energy())\n",
    "    "
   ]
  },
  {
   "cell_type": "code",
   "execution_count": null,
   "id": "be6a7061-99e9-4f2f-a5e8-211d36b85fc3",
   "metadata": {},
   "outputs": [],
   "source": [
    "import matplotlib.pyplot as plt\n",
    "import matplotlib as mpl\n",
    "\n",
    "plt.plot(kpoints, energies)\n",
    "plt.xlabel(\"No. K-Points\")\n",
    "plt.ylabel(\"E (eV)\")\n",
    "plt.tight_layout()\n",
    "plt.show()"
   ]
  },
  {
   "cell_type": "code",
   "execution_count": null,
   "id": "88840e60-6614-40f8-bda3-cf15bb7cb38e",
   "metadata": {},
   "outputs": [],
   "source": [
    "calc.set(kpts = (3,3,3))"
   ]
  },
  {
   "cell_type": "markdown",
   "id": "d0df1d57-98d3-4960-8f0e-012a0270cc87",
   "metadata": {},
   "source": [
    "# Equation of State Fitting"
   ]
  },
  {
   "cell_type": "markdown",
   "id": "7f1a241e",
   "metadata": {},
   "source": [
    "## Automatic"
   ]
  },
  {
   "cell_type": "code",
   "execution_count": null,
   "id": "2204046a-2d1e-4024-bfad-6ae2bf553878",
   "metadata": {},
   "outputs": [],
   "source": [
    "from ase.eos import EquationOfState, calculate_eos\n",
    "eos = calculate_eos(atoms, trajectory='GaAs_SJ.traj', npoints=5, eps=0.04)\n",
    "v, e, B = eos.fit()\n",
    "eos.plot()\n",
    "pass"
   ]
  },
  {
   "cell_type": "code",
   "execution_count": null,
   "id": "6c95556e-a130-45c8-9773-cc696fa9d01f",
   "metadata": {},
   "outputs": [],
   "source": [
    "from ase import units\n",
    "print((4 * v)**(1 / 3.0), \"Ang.\")\n",
    "print(B / units.kJ * 1.0e24, 'GPa')"
   ]
  },
  {
   "cell_type": "markdown",
   "id": "398a01da",
   "metadata": {},
   "source": [
    "## Manual"
   ]
  },
  {
   "cell_type": "code",
   "execution_count": null,
   "id": "77ea69a8-0dd3-45e8-b625-b837061efe8b",
   "metadata": {},
   "outputs": [],
   "source": [
    "from ase.io.trajectory import Trajectory\n",
    "import numpy as np\n",
    "\n",
    "atoms = read(\"GaAs.cif\")\n",
    "cell = atoms.get_cell()\n",
    "atoms.calc = calc\n",
    "\n",
    "traj = Trajectory('GaAs_murnaghan.traj', 'w')\n",
    "for x in np.linspace(0.95, 1.05, 5):\n",
    "    atoms.set_cell(cell * x, scale_atoms=True)\n",
    "    atoms.get_potential_energy()\n",
    "    traj.write(atoms)\n",
    "    "
   ]
  },
  {
   "cell_type": "markdown",
   "id": "d68c20e2",
   "metadata": {},
   "source": [
    "See full list of EOS options at https://databases.fysik.dtu.dk/ase/ase/eos.html"
   ]
  },
  {
   "cell_type": "code",
   "execution_count": null,
   "id": "b9f2044b-fa6e-4993-b3d9-265c595b117c",
   "metadata": {},
   "outputs": [],
   "source": [
    "configs = read(\"GaAs_murnaghan.traj@0:5\")\n",
    "volumes = [ag.get_volume() for ag in configs]\n",
    "energies = [ag.get_potential_energy() for ag in configs]\n",
    "eos = EquationOfState(volumes, energies, eos=\"murnaghan\")\n",
    "v0, e0, B = eos.fit()\n",
    "print(B / units.kJ * 1.0e24, 'GPa')\n",
    "eos.plot()\n",
    "pass"
   ]
  },
  {
   "cell_type": "markdown",
   "id": "cebce761",
   "metadata": {},
   "source": [
    "# Density of States"
   ]
  },
  {
   "cell_type": "code",
   "execution_count": null,
   "id": "28432d48",
   "metadata": {},
   "outputs": [],
   "source": [
    "from ase.dft.dos import DOS\n",
    "atoms = read(\"GaAs.cif\")\n",
    "cell = atoms.get_cell()\n",
    "atoms.calc = calc\n",
    "dos = DOS(calc, width=0.2)\n",
    "d = dos.get_dos()\n",
    "e = dos.get_energies()"
   ]
  },
  {
   "cell_type": "code",
   "execution_count": null,
   "id": "c605952f",
   "metadata": {},
   "outputs": [],
   "source": [
    "plt.plot(e, d)\n",
    "plt.xlabel('energy [eV]')\n",
    "plt.ylabel('DOS')\n",
    "plt.show()"
   ]
  },
  {
   "cell_type": "code",
   "execution_count": null,
   "id": "5cce8995",
   "metadata": {},
   "outputs": [],
   "source": [
    "from ase.dft import get_distribution_moment\n",
    "volume = get_distribution_moment(e,d)\n",
    "center, width = get_distribution_moment(e,d,(1,2))\n",
    "print(center, \"+/-\", width)"
   ]
  },
  {
   "cell_type": "markdown",
   "id": "09c2121f",
   "metadata": {},
   "source": [
    "# Band Structure"
   ]
  },
  {
   "cell_type": "code",
   "execution_count": null,
   "id": "906c68c2",
   "metadata": {},
   "outputs": [],
   "source": [
    "atoms = read(\"GaAs.cif\")\n",
    "atoms.calc = calc\n",
    "atoms.get_potential_energy()\n",
    "fermi_level = calc.get_fermi_level()"
   ]
  },
  {
   "cell_type": "code",
   "execution_count": null,
   "id": "a87ee21b",
   "metadata": {},
   "outputs": [],
   "source": [
    "atoms.get_cell()"
   ]
  },
  {
   "cell_type": "code",
   "execution_count": null,
   "id": "083aabd4",
   "metadata": {},
   "outputs": [],
   "source": [
    "lat = atoms.cell.get_bravais_lattice()\n",
    "print(lat.description())\n",
    "lat.plot_bz(show=True)"
   ]
  },
  {
   "cell_type": "code",
   "execution_count": null,
   "id": "30397294",
   "metadata": {},
   "outputs": [],
   "source": [
    "kpath = atoms.cell.bandpath()\n",
    "kpath"
   ]
  },
  {
   "cell_type": "code",
   "execution_count": null,
   "id": "31ac3af8",
   "metadata": {},
   "outputs": [],
   "source": [
    "input_data['control'].update(\n",
    "    {\n",
    "        'calculation':'bands',\n",
    "        'restart_mode':'restart',\n",
    "        'verbosity':'high'\n",
    "    }\n",
    ")\n",
    "calc.set(\n",
    "    kpts=kpath,\n",
    "    input_data=input_data\n",
    ")\n",
    "\n",
    "calc.calculate(atoms)\n"
   ]
  },
  {
   "cell_type": "code",
   "execution_count": null,
   "id": "1e29bbd7",
   "metadata": {},
   "outputs": [],
   "source": [
    "bs = calc.band_structure()\n",
    "#bs.reference = fermi_level\n",
    "bs.plot()"
   ]
  },
  {
   "cell_type": "code",
   "execution_count": null,
   "id": "8dd01fa4",
   "metadata": {},
   "outputs": [],
   "source": []
  }
 ],
 "metadata": {
  "kernelspec": {
   "display_name": "Python 3 (ipykernel)",
   "language": "python",
   "name": "python3"
  },
  "language_info": {
   "codemirror_mode": {
    "name": "ipython",
    "version": 3
   },
   "file_extension": ".py",
   "mimetype": "text/x-python",
   "name": "python",
   "nbconvert_exporter": "python",
   "pygments_lexer": "ipython3",
   "version": "3.10.11"
  }
 },
 "nbformat": 4,
 "nbformat_minor": 5
}
