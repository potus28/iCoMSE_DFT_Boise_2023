{
 "cells": [
  {
   "cell_type": "markdown",
   "id": "6d84877a-7a04-4ce5-b192-3a49fbaad1e7",
   "metadata": {},
   "source": [
    "# My First SCF Calculation"
   ]
  },
  {
   "cell_type": "code",
   "execution_count": 8,
   "id": "c1525f91-0d56-4b81-9a37-db034ec16544",
   "metadata": {},
   "outputs": [],
   "source": [
    "import os\n",
    "os.environ['ASE_ESPRESSO_COMMAND'] = \"mpirun -np 4 pw.x -in PREFIX.pwi > PREFIX.pwo\"\n",
    "os.environ['OMP_NUM_THREADS'] = 1"
   ]
  },
  {
   "cell_type": "code",
   "execution_count": 2,
   "id": "cdb70e4d-b2f3-4d6e-bf27-f146835e5bb6",
   "metadata": {},
   "outputs": [
    {
     "data": {
      "application/vnd.jupyter.widget-view+json": {
       "model_id": "99168c8cbb7a4fe19fa62a277a249b70",
       "version_major": 2,
       "version_minor": 0
      },
      "text/plain": []
     },
     "metadata": {},
     "output_type": "display_data"
    },
    {
     "data": {
      "application/vnd.jupyter.widget-view+json": {
       "model_id": "7b15abd657a94f64bf8b00ac8a0bc43c",
       "version_major": 2,
       "version_minor": 0
      },
      "text/plain": [
       "HBox(children=(NGLWidget(), VBox(children=(Dropdown(description='Show', options=('All', 'As', 'Ga'), value='Al…"
      ]
     },
     "execution_count": 2,
     "metadata": {},
     "output_type": "execute_result"
    }
   ],
   "source": [
    "from ase.io import read, write\n",
    "from ase.visualize import view\n",
    "atoms = read(\"GaAs.cif\")\n",
    "view(atoms, viewer=\"nglview\")"
   ]
  },
  {
   "cell_type": "code",
   "execution_count": 4,
   "id": "60c2c054-632c-48bb-99f7-843082f0293a",
   "metadata": {},
   "outputs": [],
   "source": [
    "from ase.calculators.espresso import Espresso\n",
    "\n",
    "pseudopotentials = {\n",
    "    \"Ga\":\"Ga.pbe-dn-kjpaw_psl.1.0.0.UPF\",\n",
    "    \"As\": \"As.nc.z_15.oncvpsp3.dojo.v4-std.upf\"}\n",
    "\n",
    "input_data = {\n",
    "    'system': {\n",
    "        'ecutwfc': 43,\n",
    "        'ecutrho': 300\n",
    "    },\n",
    "    'control': {\n",
    "        'restart_mode': 'from_scratch',\n",
    "        'pseudo_dir': '../pseudos'\n",
    "    },\n",
    "    'electrons': {\n",
    "        'diagonalization':'david',\n",
    "        'conv_thr': 1.0e-8, \n",
    "        'mixing_beta':0.4\n",
    "    }\n",
    "} \n",
    "\n",
    "\n",
    "calc = Espresso(\n",
    "    pseudopotentials=pseudopotentials,\n",
    "    tstress=True, tprnfor=True, \n",
    "    input_data = input_data,\n",
    "    kpts=(2, 2, 2),\n",
    "    koffset=(1, 1, 1))\n",
    "\n",
    "atoms.calc = calc\n"
   ]
  },
  {
   "cell_type": "code",
   "execution_count": 5,
   "id": "52302782-fb17-49d4-9263-9f15aed317fb",
   "metadata": {},
   "outputs": [
    {
     "name": "stdout",
     "output_type": "stream",
     "text": [
      "E = -26503.511\n"
     ]
    },
    {
     "name": "stderr",
     "output_type": "stream",
     "text": [
      "Note: The following floating-point exceptions are signalling: IEEE_INVALID_FLAG IEEE_DENORMAL\n"
     ]
    }
   ],
   "source": [
    "energy = atoms.get_potential_energy()\n",
    "print(f\"E = {energy:.3f}\")"
   ]
  },
  {
   "cell_type": "markdown",
   "id": "e77072fb-5f81-4076-9ee7-e33c0080288d",
   "metadata": {},
   "source": [
    "# K-Point Covnergence"
   ]
  },
  {
   "cell_type": "code",
   "execution_count": null,
   "id": "ff230ae6-6c35-4b43-8e2b-690ba00d0541",
   "metadata": {},
   "outputs": [
    {
     "name": "stderr",
     "output_type": "stream",
     "text": [
      "Note: The following floating-point exceptions are signalling: IEEE_INVALID_FLAG IEEE_DENORMAL\n",
      "Note: The following floating-point exceptions are signalling: IEEE_INVALID_FLAG IEEE_DENORMAL\n",
      "Note: The following floating-point exceptions are signalling: IEEE_INVALID_FLAG IEEE_DENORMAL\n"
     ]
    }
   ],
   "source": [
    "kpoints = [1, 2, 4, 8] \n",
    "energies = []\n",
    "for k in kpoints:\n",
    "    calc.set(kpts=(k, k, k))\n",
    "    energies.append(atoms.get_potential_energy())\n",
    "    "
   ]
  },
  {
   "cell_type": "code",
   "execution_count": null,
   "id": "be6a7061-99e9-4f2f-a5e8-211d36b85fc3",
   "metadata": {},
   "outputs": [],
   "source": []
  }
 ],
 "metadata": {
  "kernelspec": {
   "display_name": "Python 3 (ipykernel)",
   "language": "python",
   "name": "python3"
  },
  "language_info": {
   "codemirror_mode": {
    "name": "ipython",
    "version": 3
   },
   "file_extension": ".py",
   "mimetype": "text/x-python",
   "name": "python",
   "nbconvert_exporter": "python",
   "pygments_lexer": "ipython3",
   "version": "3.11.3"
  }
 },
 "nbformat": 4,
 "nbformat_minor": 5
}
