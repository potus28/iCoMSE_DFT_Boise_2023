{
 "cells": [
  {
   "cell_type": "markdown",
   "id": "723c49f6",
   "metadata": {},
   "source": [
    "# Load Bridges2 Modules and Set Environment Variables"
   ]
  },
  {
   "cell_type": "code",
   "execution_count": null,
   "id": "bf4b4a16",
   "metadata": {},
   "outputs": [],
   "source": [
    "%set_env SHELL=/bin/bash"
   ]
  },
  {
   "cell_type": "code",
   "execution_count": null,
   "id": "4e2614bb",
   "metadata": {},
   "outputs": [],
   "source": [
    "import sys\n",
    "sys.path.append(\"/usr/share/lmod/lmod/init\")\n",
    "sys.path.append(\"/jet/home/wnw36/.conda/envs/icomse-dft/lib/python3.1/site-packages/\")\n",
    "from env_modules_python import module\n",
    "module('load', 'intelmpi')\n",
    "module('load', 'QuantumEspresso')"
   ]
  },
  {
   "cell_type": "code",
   "execution_count": null,
   "id": "1c936d0e",
   "metadata": {},
   "outputs": [],
   "source": [
    "import os\n",
    "os.environ['ASE_ESPRESSO_COMMAND'] = \"mpirun -np 6 pw.x -in PREFIX.pwi > PREFIX.pwo\"\n",
    "os.environ['OMP_NUM_THREADS'] = \"2\""
   ]
  },
  {
   "cell_type": "markdown",
   "id": "6d84877a-7a04-4ce5-b192-3a49fbaad1e7",
   "metadata": {},
   "source": [
    "# SCF Calculation for Metallic Surfaces"
   ]
  },
  {
   "cell_type": "code",
   "execution_count": null,
   "id": "cdb70e4d-b2f3-4d6e-bf27-f146835e5bb6",
   "metadata": {},
   "outputs": [],
   "source": [
    "from ase.visualize import view\n",
    "from ase.build import fcc111\n",
    "\n",
    "atoms = fcc111('Al', size=(2,2,4), vacuum=7.5) # Vacuum added on both sides! 15 Ang. Vacuum total\n",
    "\n",
    "view(atoms, viewer=\"x3d\")"
   ]
  },
  {
   "cell_type": "code",
   "execution_count": null,
   "id": "60c2c054-632c-48bb-99f7-843082f0293a",
   "metadata": {},
   "outputs": [],
   "source": [
    "from ase.calculators.espresso import Espresso\n",
    "\n",
    "pseudopotentials = {\n",
    "    \"Al\":\"Al.pbe-n-kjpaw_psl.1.0.0.UPF\",\n",
    "    \"H\":\"H_ONCV_PBE-1.0.oncvpsp.upf\"\n",
    "}\n",
    "\n",
    "input_data = {\n",
    "    'system': {\n",
    "        'ecutwfc': 20,\n",
    "        'ecutrho': 160,\n",
    "        'occupations': 'smearing',\n",
    "        'smearing':'mp',\n",
    "        'degauss':0.02\n",
    "    },\n",
    "    'control': {\n",
    "        'restart_mode': 'from_scratch',\n",
    "        'pseudo_dir': '../pseudos'\n",
    "    },\n",
    "    'electrons': {\n",
    "        'diagonalization':'david',\n",
    "        'conv_thr': 1.0e-8, \n",
    "        'mixing_beta':0.2,\n",
    "        'mixing_mode': 'local-TF'\n",
    "    }\n",
    "} \n",
    "\n",
    "\n",
    "calc = Espresso(\n",
    "    pseudopotentials=pseudopotentials,\n",
    "    tstress=True, tprnfor=True, \n",
    "    input_data = input_data,\n",
    "    kpts=(2,2,1),\n",
    "    koffset=(1, 1, 0))\n",
    "\n",
    "atoms.calc = calc\n"
   ]
  },
  {
   "cell_type": "code",
   "execution_count": null,
   "id": "52302782-fb17-49d4-9263-9f15aed317fb",
   "metadata": {},
   "outputs": [],
   "source": [
    "energy_slab = atoms.get_potential_energy()\n",
    "print(f\"E = {energy_slab:.3f}\")"
   ]
  },
  {
   "cell_type": "markdown",
   "id": "e696f3ea",
   "metadata": {},
   "source": [
    "# Adding Adsorbates to Surfaces"
   ]
  },
  {
   "cell_type": "code",
   "execution_count": null,
   "id": "16420fbf",
   "metadata": {},
   "outputs": [],
   "source": [
    "from ase.build import add_adsorbate, molecule\n",
    "add_adsorbate(atoms, molecule(\"H2\"), 2.75, 'ontop')\n",
    "view(atoms, viewer=\"x3d\")"
   ]
  },
  {
   "cell_type": "markdown",
   "id": "06c3f108",
   "metadata": {},
   "source": [
    "In ASE, Atoms when \"add_adsorbate\" and \"surface\" are used get assigned tags. Each layer of the slab is numbered 1, 2, 3, etc. while adsorbates are numbered 0."
   ]
  },
  {
   "cell_type": "code",
   "execution_count": null,
   "id": "6a7bb1cd",
   "metadata": {},
   "outputs": [],
   "source": [
    "print(atoms.get_tags())"
   ]
  },
  {
   "cell_type": "code",
   "execution_count": null,
   "id": "eb194621",
   "metadata": {},
   "outputs": [],
   "source": [
    "idx = [atom.index for atom in atoms if atom.tag == 0]\n",
    "atoms[idx]"
   ]
  },
  {
   "cell_type": "markdown",
   "id": "85d769a3",
   "metadata": {},
   "source": [
    "# Slab + Adsorbate SCF"
   ]
  },
  {
   "cell_type": "code",
   "execution_count": null,
   "id": "10ad5a65",
   "metadata": {},
   "outputs": [],
   "source": [
    "energy_system = atoms.get_potential_energy()\n",
    "print(f\"E = {energy_system:.3f}\")"
   ]
  },
  {
   "cell_type": "markdown",
   "id": "09c2121f",
   "metadata": {},
   "source": [
    "# Adsorbate SCF"
   ]
  },
  {
   "cell_type": "code",
   "execution_count": null,
   "id": "34858844",
   "metadata": {},
   "outputs": [],
   "source": [
    "idx_Al = [atom.index for atom in atoms if atom.tag != 0]\n",
    "del atoms[idx_Al]\n",
    "energy_probe = atoms.get_potential_energy()"
   ]
  },
  {
   "cell_type": "markdown",
   "id": "2298ca61",
   "metadata": {},
   "source": [
    "# Binding Energy Calculation"
   ]
  },
  {
   "cell_type": "code",
   "execution_count": null,
   "id": "9bb40442",
   "metadata": {},
   "outputs": [],
   "source": [
    "print(f\"Binding Energy = {energy_system - energy_slab - energy_probe:.3f} eV\" )"
   ]
  },
  {
   "cell_type": "code",
   "execution_count": null,
   "id": "6ab790ad",
   "metadata": {},
   "outputs": [],
   "source": []
  }
 ],
 "metadata": {
  "kernelspec": {
   "display_name": "Python 3 (ipykernel)",
   "language": "python",
   "name": "python3"
  },
  "language_info": {
   "codemirror_mode": {
    "name": "ipython",
    "version": 3
   },
   "file_extension": ".py",
   "mimetype": "text/x-python",
   "name": "python",
   "nbconvert_exporter": "python",
   "pygments_lexer": "ipython3",
   "version": "3.10.11"
  }
 },
 "nbformat": 4,
 "nbformat_minor": 5
}
