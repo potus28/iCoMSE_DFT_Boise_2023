{
 "cells": [
  {
   "cell_type": "markdown",
   "id": "7b69fbc0",
   "metadata": {},
   "source": [
    "# Load Bridges2 Modules and Set Environment Variables"
   ]
  },
  {
   "cell_type": "code",
   "execution_count": null,
   "id": "4fc186fb",
   "metadata": {},
   "outputs": [],
   "source": [
    "%set_env SHELL=/bin/bash"
   ]
  },
  {
   "cell_type": "code",
   "execution_count": null,
   "id": "a9d94666",
   "metadata": {},
   "outputs": [],
   "source": [
    "import sys\n",
    "sys.path.append(\"/usr/share/lmod/lmod/init\")\n",
    "sys.path.append(\"/jet/home/wnw36/.conda/envs/icomse-dft/lib/python3.1/site-packages/\")\n",
    "from env_modules_python import module\n",
    "module('load', 'intelmpi')\n",
    "module('load', 'QuantumEspresso')"
   ]
  },
  {
   "cell_type": "code",
   "execution_count": null,
   "id": "5518c931",
   "metadata": {},
   "outputs": [],
   "source": [
    "import os\n",
    "os.environ['ASE_ESPRESSO_COMMAND'] = \"mpirun -np 6 pw.x -in PREFIX.pwi > PREFIX.pwo\"\n",
    "os.environ['OMP_NUM_THREADS'] = \"2\""
   ]
  },
  {
   "cell_type": "markdown",
   "id": "6d84877a-7a04-4ce5-b192-3a49fbaad1e7",
   "metadata": {},
   "source": [
    "# SCF Calculation for Metals"
   ]
  },
  {
   "cell_type": "code",
   "execution_count": null,
   "id": "cdb70e4d-b2f3-4d6e-bf27-f146835e5bb6",
   "metadata": {},
   "outputs": [],
   "source": [
    "from ase.build import bulk\n",
    "from ase.visualize import view\n",
    "atoms = bulk(\"Al\", \"fcc\")\n",
    "view(atoms, viewer=\"x3d\")"
   ]
  },
  {
   "cell_type": "code",
   "execution_count": null,
   "id": "60c2c054-632c-48bb-99f7-843082f0293a",
   "metadata": {},
   "outputs": [],
   "source": [
    "from ase.calculators.espresso import Espresso\n",
    "\n",
    "pseudopotentials = {\n",
    "    \"Al\":\"Al.pbe-n-kjpaw_psl.1.0.0.UPF\"\n",
    "}\n",
    "\n",
    "input_data = {\n",
    "    'system': {\n",
    "        'ecutwfc': 30,\n",
    "        'ecutrho': 120,\n",
    "        'occupations': 'smearing',\n",
    "        'smearing':'cold',\n",
    "        'degauss':0.005\n",
    "    },\n",
    "    'control': {\n",
    "        'restart_mode': 'from_scratch',\n",
    "        'pseudo_dir': '../pseudos'\n",
    "    },\n",
    "    'electrons': {\n",
    "        'diagonalization':'david',\n",
    "        'conv_thr': 1.0e-8, \n",
    "        'mixing_beta':0.4\n",
    "    }\n",
    "} \n",
    "\n",
    "\n",
    "calc = Espresso(\n",
    "    pseudopotentials=pseudopotentials,\n",
    "    tstress=True, tprnfor=True, \n",
    "    input_data = input_data,\n",
    "    kpts=(8,8,8),\n",
    "    koffset=(1, 1, 1))\n",
    "\n",
    "atoms.calc = calc\n"
   ]
  },
  {
   "cell_type": "code",
   "execution_count": null,
   "id": "52302782-fb17-49d4-9263-9f15aed317fb",
   "metadata": {},
   "outputs": [],
   "source": [
    "energy = atoms.get_potential_energy()\n",
    "print(f\"E = {energy:.3f}\")"
   ]
  },
  {
   "cell_type": "markdown",
   "id": "e77072fb-5f81-4076-9ee7-e33c0080288d",
   "metadata": {},
   "source": [
    "# K-Point Covnergence"
   ]
  },
  {
   "cell_type": "code",
   "execution_count": null,
   "id": "ff230ae6-6c35-4b43-8e2b-690ba00d0541",
   "metadata": {},
   "outputs": [],
   "source": [
    "kpoints = range(1,9) \n",
    "energies = []\n",
    "for k in kpoints:\n",
    "    calc.set(kpts=(k, k, k))\n",
    "    energies.append(atoms.get_potential_energy())\n",
    "    "
   ]
  },
  {
   "cell_type": "code",
   "execution_count": null,
   "id": "be6a7061-99e9-4f2f-a5e8-211d36b85fc3",
   "metadata": {},
   "outputs": [],
   "source": [
    "import matplotlib.pyplot as plt\n",
    "import matplotlib as mpl\n",
    "\n",
    "plt.plot(kpoints, energies)\n",
    "plt.xlabel(\"No. K-Points\")\n",
    "plt.ylabel(\"E (eV)\")\n",
    "plt.tight_layout()\n",
    "plt.show()"
   ]
  },
  {
   "cell_type": "code",
   "execution_count": null,
   "id": "88840e60-6614-40f8-bda3-cf15bb7cb38e",
   "metadata": {},
   "outputs": [],
   "source": [
    "calc.set(kpts = (8,8,8))"
   ]
  },
  {
   "cell_type": "markdown",
   "id": "d0df1d57-98d3-4960-8f0e-012a0270cc87",
   "metadata": {},
   "source": [
    "# Equation of State Fitting"
   ]
  },
  {
   "cell_type": "code",
   "execution_count": null,
   "id": "77ea69a8-0dd3-45e8-b625-b837061efe8b",
   "metadata": {},
   "outputs": [],
   "source": [
    "from ase.io.trajectory import Trajectory\n",
    "import numpy as np\n",
    "cell0 = atoms.get_cell()\n",
    "atoms.calc = calc\n",
    "\n",
    "traj = Trajectory('Al_murnaghan.traj', 'w')\n",
    "for x in np.linspace(0.95, 1.05, 5):\n",
    "    atoms.set_cell(cell0 * x, scale_atoms=True)\n",
    "    atoms.get_potential_energy()\n",
    "    traj.write(atoms)\n",
    "\n",
    "atoms.set_cell(cell0, scale_atoms=True)"
   ]
  },
  {
   "cell_type": "markdown",
   "id": "d68c20e2",
   "metadata": {},
   "source": [
    "See full list of EOS options at https://databases.fysik.dtu.dk/ase/ase/eos.html"
   ]
  },
  {
   "cell_type": "code",
   "execution_count": null,
   "id": "b9f2044b-fa6e-4993-b3d9-265c595b117c",
   "metadata": {},
   "outputs": [],
   "source": [
    "from ase.io import read, write\n",
    "from ase.eos import EquationOfState\n",
    "from ase import units\n",
    "\n",
    "configs = read(\"Al_murnaghan.traj@0:5\")\n",
    "volumes = [ag.get_volume() for ag in configs]\n",
    "energies = [ag.get_potential_energy() for ag in configs]\n",
    "eos = EquationOfState(volumes, energies, eos=\"murnaghan\")\n",
    "v0, e0, B = eos.fit()\n",
    "print(v0**(1./3.), \"Ang.\")\n",
    "print(B / units.kJ * 1.0e24, 'GPa')\n",
    "eos.plot()\n",
    "pass"
   ]
  },
  {
   "cell_type": "markdown",
   "id": "cebce761",
   "metadata": {},
   "source": [
    "# Density of States"
   ]
  },
  {
   "cell_type": "code",
   "execution_count": null,
   "id": "28432d48",
   "metadata": {},
   "outputs": [],
   "source": [
    "from ase.dft.dos import DOS\n",
    "atoms.get_potential_energy()\n",
    "dos = DOS(calc, width=0.2)\n",
    "d = dos.get_dos()\n",
    "e = dos.get_energies()"
   ]
  },
  {
   "cell_type": "code",
   "execution_count": null,
   "id": "c605952f",
   "metadata": {},
   "outputs": [],
   "source": [
    "plt.plot(e, d)\n",
    "plt.xlabel('energy [eV]')\n",
    "plt.ylabel('DOS')\n",
    "plt.show()"
   ]
  },
  {
   "cell_type": "code",
   "execution_count": null,
   "id": "5cce8995",
   "metadata": {},
   "outputs": [],
   "source": [
    "from ase.dft import get_distribution_moment\n",
    "volume = get_distribution_moment(e,d)\n",
    "center, width = get_distribution_moment(e,d,(1,2))\n",
    "print(center, \"+/-\", width)"
   ]
  },
  {
   "cell_type": "markdown",
   "id": "09c2121f",
   "metadata": {},
   "source": [
    "# Band Structure"
   ]
  },
  {
   "cell_type": "code",
   "execution_count": null,
   "id": "906c68c2",
   "metadata": {},
   "outputs": [],
   "source": [
    "atoms.get_potential_energy()\n",
    "fermi_level = calc.get_fermi_level()"
   ]
  },
  {
   "cell_type": "code",
   "execution_count": null,
   "id": "70534b56",
   "metadata": {},
   "outputs": [],
   "source": [
    "atoms.get_cell()"
   ]
  },
  {
   "cell_type": "code",
   "execution_count": null,
   "id": "083aabd4",
   "metadata": {},
   "outputs": [],
   "source": [
    "lat = atoms.cell.get_bravais_lattice()\n",
    "print(lat.description())\n",
    "lat.plot_bz(show=True)"
   ]
  },
  {
   "cell_type": "code",
   "execution_count": null,
   "id": "30397294",
   "metadata": {},
   "outputs": [],
   "source": [
    "kpath = atoms.cell.bandpath()\n",
    "kpath"
   ]
  },
  {
   "cell_type": "code",
   "execution_count": null,
   "id": "31ac3af8",
   "metadata": {},
   "outputs": [],
   "source": [
    "input_data['control'].update(\n",
    "    {\n",
    "        'calculation':'bands',\n",
    "        'restart_mode':'restart',\n",
    "        'verbosity':'high'\n",
    "    }\n",
    ")\n",
    "calc.set(\n",
    "    kpts=kpath,\n",
    "    input_data=input_data\n",
    ")\n",
    "\n",
    "calc.calculate(atoms)\n"
   ]
  },
  {
   "cell_type": "code",
   "execution_count": null,
   "id": "1e29bbd7",
   "metadata": {},
   "outputs": [],
   "source": [
    "bs = calc.band_structure()\n",
    "bs.plot()"
   ]
  },
  {
   "cell_type": "code",
   "execution_count": null,
   "id": "ecfd1489",
   "metadata": {},
   "outputs": [],
   "source": []
  }
 ],
 "metadata": {
  "kernelspec": {
   "display_name": "Python 3 (ipykernel)",
   "language": "python",
   "name": "python3"
  },
  "language_info": {
   "codemirror_mode": {
    "name": "ipython",
    "version": 3
   },
   "file_extension": ".py",
   "mimetype": "text/x-python",
   "name": "python",
   "nbconvert_exporter": "python",
   "pygments_lexer": "ipython3",
   "version": "3.10.11"
  }
 },
 "nbformat": 4,
 "nbformat_minor": 5
}
